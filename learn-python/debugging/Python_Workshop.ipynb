{
 "cells": [
  {
   "cell_type": "code",
   "execution_count": null,
   "id": "6dce2931-ec27-444f-92cb-f59c6a32fee5",
   "metadata": {
    "tags": []
   },
   "outputs": [],
   "source": [
    "# How to open a file\n",
    "f = open('interesting_stuff.csv')\n",
    "\n",
    "# Reading whats in the file \n",
    "lines = f.readlines()\n",
    "\n",
    "# how many lines are there?\n",
    "len(lines)\n",
    "\n",
    "# get the labels of the data\n",
    "labels = lines[0]\n",
    "labels = labels.split(',')\n",
    "\n",
    "# get the data without the labels \n",
    "data = lines[1:]\n",
    "\n",
    "week = []\n",
    "python_data = []\n",
    "piano_data = []\n",
    "german_data = []\n",
    "\n",
    "# collect each data column in an list\n",
    "for line in data:\n",
    "    line = line[:-1]\n",
    "    line = line.split(',')\n",
    "    week.append(line[0])\n",
    "    python_data.append(int(line[1]))\n",
    "    piano_data.append(int(line[2]))\n",
    "    german_data.append(int(line[3]))\n",
    "\n",
    "import matplotlib.pyplot as plt\n",
    "\n",
    "plt.plot(python_data, label='learn python')\n",
    "plt.plot(german_data, label='learn german')\n",
    "plt.plot(piano_data,  label='learn piano')\n",
    "plt.legend()"
   ]
  }
 ],
 "metadata": {
  "kernelspec": {
   "display_name": "Python 3 (ipykernel)",
   "language": "python",
   "name": "python3"
  },
  "language_info": {
   "codemirror_mode": {
    "name": "ipython",
    "version": 3
   },
   "file_extension": ".py",
   "mimetype": "text/x-python",
   "name": "python",
   "nbconvert_exporter": "python",
   "pygments_lexer": "ipython3",
   "version": "3.7.12"
  }
 },
 "nbformat": 4,
 "nbformat_minor": 5
}
