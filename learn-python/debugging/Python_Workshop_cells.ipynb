{
 "cells": [
  {
   "cell_type": "code",
   "execution_count": null,
   "id": "c91146aa",
   "metadata": {},
   "outputs": [],
   "source": [
    "# How to open a file\n",
    "\n",
    "f = open('interesting_stuff.csv')\n",
    "f"
   ]
  },
  {
   "cell_type": "code",
   "execution_count": null,
   "id": "19fa98cc",
   "metadata": {},
   "outputs": [],
   "source": [
    "# Reading whats in the file \n",
    "lines = f.readlines()\n",
    "lines"
   ]
  },
  {
   "cell_type": "code",
   "execution_count": null,
   "id": "25df6f8a",
   "metadata": {},
   "outputs": [],
   "source": [
    "# how many lines are there?\n",
    "len(lines)"
   ]
  },
  {
   "cell_type": "code",
   "execution_count": null,
   "id": "b3878d18",
   "metadata": {},
   "outputs": [],
   "source": [
    "# get the labels of the data\n",
    "\n",
    "labels = lines[0].split(',')\n",
    "labels"
   ]
  },
  {
   "cell_type": "code",
   "execution_count": null,
   "id": "223679ac",
   "metadata": {},
   "outputs": [],
   "source": [
    "# get the data without the labels \n",
    "\n",
    "data = lines[1:]\n",
    "data"
   ]
  },
  {
   "cell_type": "code",
   "execution_count": null,
   "id": "65c657fd",
   "metadata": {},
   "outputs": [],
   "source": [
    "week = []\n",
    "python_data = []\n",
    "piano_data = []\n",
    "german_data = []"
   ]
  },
  {
   "cell_type": "code",
   "execution_count": null,
   "id": "f49cc972",
   "metadata": {},
   "outputs": [],
   "source": [
    "# collect each data column in an list\n",
    "\n",
    "for line in data:\n",
    "    line = line[:-1]\n",
    "    line = line.split(',')\n",
    "    week.append(line[0])\n",
    "    python_data.append(int(line[1]))\n",
    "    piano_data.append(int(line[2]))\n",
    "    german_data.append(int(line[3]))"
   ]
  },
  {
   "cell_type": "code",
   "execution_count": null,
   "id": "aa112e19",
   "metadata": {
    "collapsed": true
   },
   "outputs": [],
   "source": [
    "week"
   ]
  },
  {
   "cell_type": "code",
   "execution_count": null,
   "id": "430f831b",
   "metadata": {},
   "outputs": [],
   "source": [
    "python_data"
   ]
  },
  {
   "cell_type": "code",
   "execution_count": null,
   "id": "9ffb6425",
   "metadata": {},
   "outputs": [],
   "source": [
    "import matplotlib.pyplot as plt\n",
    "\n",
    "plt.plot(python_data, label='learn python')\n",
    "plt.plot(german_data, label='learn german')\n",
    "plt.plot(piano_data,  label='learn piano')\n",
    "plt.legend()"
   ]
  },
  {
   "cell_type": "code",
   "execution_count": null,
   "id": "33783c9a",
   "metadata": {},
   "outputs": [],
   "source": [
    "week[150]"
   ]
  }
 ],
 "metadata": {
  "kernelspec": {
   "display_name": "Python 3 (ipykernel)",
   "language": "python",
   "name": "python3"
  },
  "language_info": {
   "codemirror_mode": {
    "name": "ipython",
    "version": 3
   },
   "file_extension": ".py",
   "mimetype": "text/x-python",
   "name": "python",
   "nbconvert_exporter": "python",
   "pygments_lexer": "ipython3",
   "version": "3.8.10"
  }
 },
 "nbformat": 4,
 "nbformat_minor": 5
}
