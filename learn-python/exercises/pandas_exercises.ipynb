{
 "cells": [
  {
   "cell_type": "markdown",
   "id": "fa337e3e",
   "metadata": {},
   "source": [
    "## Beginner exercises in Python\n",
    "\n",
    "This notebook features exercises with a focus on getting started with Python."
   ]
  },
  {
   "cell_type": "markdown",
   "id": "cc1c04f1",
   "metadata": {},
   "source": [
    "### Step 1\n",
    "\n",
    "Import pandas. Then create a dataframe from the file *data.csv* and print the first five rows."
   ]
  },
  {
   "cell_type": "code",
   "execution_count": null,
   "id": "bc62a83a",
   "metadata": {},
   "outputs": [],
   "source": []
  },
  {
   "cell_type": "markdown",
   "id": "518f1d6f",
   "metadata": {},
   "source": [
    "### Step 2\n",
    "\n"
   ]
  }
 ],
 "metadata": {
  "kernelspec": {
   "display_name": "Python 3 (ipykernel)",
   "language": "python",
   "name": "python3"
  },
  "language_info": {
   "codemirror_mode": {
    "name": "ipython",
    "version": 3
   },
   "file_extension": ".py",
   "mimetype": "text/x-python",
   "name": "python",
   "nbconvert_exporter": "python",
   "pygments_lexer": "ipython3",
   "version": "3.8.10"
  }
 },
 "nbformat": 4,
 "nbformat_minor": 5
}
