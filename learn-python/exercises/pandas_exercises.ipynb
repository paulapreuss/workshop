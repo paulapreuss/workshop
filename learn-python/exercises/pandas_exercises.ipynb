{
 "cells": [
  {
   "cell_type": "markdown",
   "id": "fa337e3e",
   "metadata": {},
   "source": [
    "## Pandas exercises in Python\n",
    "\n",
    "This notebook features exercises with a focus on getting used to working with pandas dataframes."
   ]
  },
  {
   "cell_type": "markdown",
   "id": "cc1c04f1",
   "metadata": {},
   "source": [
    "### Step 1\n",
    "\n",
    "Import pandas. Then create a dataframe from the file *data.csv* and print the first five rows."
   ]
  },
  {
   "cell_type": "code",
   "execution_count": null,
   "id": "bc62a83a",
   "metadata": {},
   "outputs": [],
   "source": []
  },
  {
   "cell_type": "markdown",
   "id": "518f1d6f",
   "metadata": {},
   "source": [
    "### Step 2\n",
    "\n",
    "Add a column *vehicle_sum* that adds up all vehicles in the region."
   ]
  },
  {
   "cell_type": "code",
   "execution_count": null,
   "id": "d7a31ae2",
   "metadata": {},
   "outputs": [],
   "source": []
  },
  {
   "cell_type": "markdown",
   "id": "244cb38c",
   "metadata": {},
   "source": [
    "### Step 3\n",
    "\n",
    "Find the regions with the least amount of bev_luxury."
   ]
  },
  {
   "cell_type": "code",
   "execution_count": null,
   "id": "0cf7ab2a",
   "metadata": {},
   "outputs": [],
   "source": []
  },
  {
   "cell_type": "markdown",
   "id": "b856e54e",
   "metadata": {},
   "source": [
    "### Step 4\n",
    "\n",
    "Randomly select 3 rows, weighted by the column *vehicle_sum*."
   ]
  },
  {
   "cell_type": "code",
   "execution_count": null,
   "id": "4592bbdc",
   "metadata": {},
   "outputs": [],
   "source": []
  },
  {
   "cell_type": "markdown",
   "id": "cf5ee58a",
   "metadata": {},
   "source": [
    "### Step 5\n",
    "\n",
    "Visualize the regions by plotting the vehicle amounts."
   ]
  },
  {
   "cell_type": "code",
   "execution_count": null,
   "id": "3cf04387",
   "metadata": {},
   "outputs": [],
   "source": []
  },
  {
   "cell_type": "markdown",
   "id": "86c9292b",
   "metadata": {},
   "source": [
    "### Step 6\n",
    "\n",
    "Add a column *rural* that contains *True* for all \"LR\"-regions and *False* for the \"SR\"-regions. Use this to make two region groups, then print the vehicle sums and the average number of vehicles per type of the rural regions."
   ]
  },
  {
   "cell_type": "code",
   "execution_count": null,
   "id": "4d850659",
   "metadata": {},
   "outputs": [],
   "source": []
  }
 ],
 "metadata": {
  "kernelspec": {
   "display_name": "Python 3 (ipykernel)",
   "language": "python",
   "name": "python3"
  },
  "language_info": {
   "codemirror_mode": {
    "name": "ipython",
    "version": 3
   },
   "file_extension": ".py",
   "mimetype": "text/x-python",
   "name": "python",
   "nbconvert_exporter": "python",
   "pygments_lexer": "ipython3",
   "version": "3.9.7"
  }
 },
 "nbformat": 4,
 "nbformat_minor": 5
}
