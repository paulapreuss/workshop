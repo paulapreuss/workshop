{
 "cells": [
  {
   "cell_type": "markdown",
   "id": "77597efe",
   "metadata": {},
   "source": [
    "## Beginner exercises in Python\n",
    "\n",
    "This notebook features exercises with a focus on getting started with Python."
   ]
  },
  {
   "cell_type": "markdown",
   "id": "a562a4ed",
   "metadata": {},
   "source": [
    "### Exercise 1\n",
    "\n",
    "Use a for-loop to print the numbers from 1 to 10."
   ]
  },
  {
   "cell_type": "code",
   "execution_count": null,
   "id": "75b97aa7",
   "metadata": {},
   "outputs": [],
   "source": []
  },
  {
   "cell_type": "markdown",
   "id": "9fdac4d6",
   "metadata": {},
   "source": [
    "### Exercise 2\n",
    "\n",
    "Rewrite the following into a function called calculate_energy."
   ]
  },
  {
   "cell_type": "code",
   "execution_count": null,
   "id": "b45a1efd",
   "metadata": {},
   "outputs": [],
   "source": [
    "# Script\n",
    "power = 5\n",
    "hours = 10\n",
    "\n",
    "energy = power * hours\n",
    "print(\"Energy in kWh:\", energy)\n",
    "\n",
    "# Write function here\n",
    "\n",
    "\n",
    "# Function call\n",
    "calculate_energy(5, 10)"
   ]
  },
  {
   "cell_type": "markdown",
   "id": "380bc364",
   "metadata": {},
   "source": [
    "### Exercise 3\n",
    "Rewrite the function calculate_energy, so that the following function call works. Hint: use the keyword *return*"
   ]
  },
  {
   "cell_type": "code",
   "execution_count": null,
   "id": "5cee301e",
   "metadata": {},
   "outputs": [],
   "source": [
    "\n",
    "consumption = calculate_energy(14, 1.4)\n",
    "print(\"Energy used: {:f} kWh\".format(consumption))"
   ]
  },
  {
   "cell_type": "markdown",
   "id": "ee6d96e6",
   "metadata": {},
   "source": [
    "### Exercise 4\n",
    "\n",
    "Print all numbers from this list that are not divisible by three"
   ]
  },
  {
   "cell_type": "code",
   "execution_count": null,
   "id": "463271c8",
   "metadata": {},
   "outputs": [],
   "source": [
    "numbers = [1, 2, 3, 4, 5, 6, 7, 8, 9, 10]\n",
    "\n",
    "# write a loop\n"
   ]
  },
  {
   "cell_type": "markdown",
   "id": "59cb43ee",
   "metadata": {},
   "source": [
    "### Exercise 5\n",
    "\n",
    "Rewrite the script from exercise 4 into a function. Generate a random number list, then use that to call the function."
   ]
  },
  {
   "cell_type": "code",
   "execution_count": null,
   "id": "9d2a3042",
   "metadata": {},
   "outputs": [],
   "source": []
  }
 ],
 "metadata": {
  "kernelspec": {
   "display_name": "Python 3 (ipykernel)",
   "language": "python",
   "name": "python3"
  },
  "language_info": {
   "codemirror_mode": {
    "name": "ipython",
    "version": 3
   },
   "file_extension": ".py",
   "mimetype": "text/x-python",
   "name": "python",
   "nbconvert_exporter": "python",
   "pygments_lexer": "ipython3",
   "version": "3.9.7"
  }
 },
 "nbformat": 4,
 "nbformat_minor": 5
}
